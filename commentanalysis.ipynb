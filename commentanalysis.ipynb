{
 "cells": [
  {
   "cell_type": "code",
   "execution_count": 7,
   "metadata": {},
   "outputs": [
    {
     "name": "stderr",
     "output_type": "stream",
     "text": [
      "/Users/andrewduffy/opt/anaconda3/lib/python3.8/site-packages/IPython/core/interactiveshell.py:3071: DtypeWarning: Columns (17) have mixed types.Specify dtype option on import or set low_memory=False.\n",
      "  has_raised = await self.run_ast_nodes(code_ast.body, cell_name,\n"
     ]
    }
   ],
   "source": [
    "import pandas as pd\n",
    "import numpy as np\n",
    "import seaborn as sns\n",
    "import matplotlib as plt\n",
    "import datetime\n",
    "\n",
    "\n",
    "def cleanData(dataset):\n",
    "    dataset['Vulgar'] = False\n",
    "   # converts date from UNIX to readable timestamp\n",
    "    #for j in dataset['created_utc']:\n",
    "       # j = pd.to_datetime(j)\n",
    "        \n",
    "    return dataset\n",
    "\n",
    "\n",
    "#create dataframes for each set of comments\n",
    "awwDF = pd.read_csv('aww.csv', usecols = ['body', 'created_utc'])\n",
    "gamingDF = pd.read_csv('gaming.csv',  usecols = ['body', 'created_utc'])\n",
    "foodDF= pd.read_csv('food.csv',  usecols = ['body', 'created_utc'])\n",
    "booksDF = pd.read_csv('books.csv', usecols = ['body', 'created_utc'])\n",
    "disneyDF = pd.read_csv('disney.csv', usecols = ['body', 'created_utc'])\n",
    "\n",
    "\n",
    "\n",
    "\n",
    "#cleaning datasets\n",
    "awwDF = cleanData(awwDF)\n",
    "booksDF=cleanData(booksDF)\n",
    "gamingDF = cleanData(gamingDF)\n",
    "foodDF = cleanData(foodDF)\n",
    "disneyDF = cleanData(disneyDF)\n",
    "\n",
    "\n"
   ]
  },
  {
   "cell_type": "code",
   "execution_count": 17,
   "metadata": {},
   "outputs": [
    {
     "data": {
      "text/plain": [
       "{'aww': 1065, 'books': 3013, 'gaming': 2275, 'disney': 823, 'food': 1533}"
      ]
     },
     "metadata": {},
     "output_type": "display_data"
    },
    {
     "name": "stdout",
     "output_type": "stream",
     "text": [
      "{'fucking': 17, 'sucks': 13, 'ass': 11, 'shitty': 5, 'suck': 5}\n"
     ]
    }
   ],
   "source": [
    "#finds top n words from badwords found in given subreddit\n",
    "from collections import Counter\n",
    "mydict = {'aww': None, 'books': None, 'gaming': None, 'disney': None, 'food': None}\n",
    "\n",
    "def bwCount(df):\n",
    "    count = 0\n",
    "    comments = df['body']\n",
    "    bw = pd.read_csv('badwords.txt')\n",
    "    badwords = bw['2g1c']\n",
    "  \n",
    "   \n",
    "    #loop through and detect bad words, if they appear then make Vulgar True at that index\n",
    "    for i in comments:\n",
    "        for j in badwords:\n",
    "            if j in str(i):\n",
    "                count+=1\n",
    "                break\n",
    "                \n",
    "\n",
    "    return count\n",
    "\n",
    "\n",
    "\n",
    "\n",
    "\n",
    "\n",
    "mydict['aww'] = bwCount(awwDF)\n",
    "mydict['books'] = bwCount(booksDF)\n",
    "mydict['gaming']= bwCount(gamingDF)\n",
    "mydict['food'] = bwCount(foodDF)\n",
    "mydict['disney'] = bwCount(disneyDF)\n",
    "\n",
    "\n",
    "#frequency of badwords in subreddit\n",
    "#badwords dictionary\n",
    "bw = pd.read_csv('badwords.txt')\n",
    "badwords = bw['2g1c']\n",
    "bwDict={}\n",
    "for i in badwords:\n",
    "    bwDict[i] = None\n",
    "\n",
    "    #finds frequency of words in dictionary\n",
    "def freqCalc(df, bw, bwDict):\n",
    "    for i in bw:\n",
    "        count = 0\n",
    "        for j in df['body']:\n",
    "            comment = str(j).split()\n",
    "            for k in comment:\n",
    "                if i == k:\n",
    "                    count+=1\n",
    "        bwDict[i] = count\n",
    "    return bwDict\n",
    "\n",
    "\n",
    "\n",
    "#awwBWDict = freqCalc(awwDF, badwords, bwDict)\n",
    "#booksBWDict = freqCalc(booksDF, badwords, bwDict)\n",
    "#foodBWDict = freqCalc(foodDF, badwords, bwDict)\n",
    "#gamingBWDict = freqCalc(gamingDF, badwords, bwDict)\n",
    "disneyBWDict = freqCalc(disneyDF, badwords, bwDict)\n",
    "\n",
    "\n",
    "#awwtop5 = dict(Counter(awwBWDict).most_common(5))\n",
    "#bookstop5 = dict(Counter(booksBWDict).most_common(5))\n",
    "#foodtop5 = dict(Counter(foodBWDict).most_common(5))\n",
    "#gamingtop5 = dict(Counter(gamingBWDict).most_common(5))\n",
    "disneytop5 =dict(Counter(disneyBWDict).most_common(5))\n",
    "display(mydict)\n",
    "print(disneytop5)\n"
   ]
  },
  {
   "cell_type": "markdown",
   "metadata": {},
   "source": []
  },
  {
   "cell_type": "code",
   "execution_count": null,
   "metadata": {},
   "outputs": [],
   "source": [
    "\n",
    "                \n"
   ]
  },
  {
   "cell_type": "code",
   "execution_count": null,
   "metadata": {},
   "outputs": [],
   "source": []
  }
 ],
 "metadata": {
  "kernelspec": {
   "display_name": "Python 3",
   "language": "python",
   "name": "python3"
  },
  "language_info": {
   "codemirror_mode": {
    "name": "ipython",
    "version": 3
   },
   "file_extension": ".py",
   "mimetype": "text/x-python",
   "name": "python",
   "nbconvert_exporter": "python",
   "pygments_lexer": "ipython3",
   "version": "3.8.3"
  }
 },
 "nbformat": 4,
 "nbformat_minor": 4
}
